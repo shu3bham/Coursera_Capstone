{
    "cells": [
        {
            "cell_type": "markdown",
            "metadata": {
                "collapsed": true
            },
            "source": "**IBM Applied Data Science Capstone Course by Coursera**\n\n * *Build a dataframe of the postal code of each neighborhood along with the borough name and neighborhood name in Toronto.*\n * *Get the geographical coordinates of the neighborhoods in Toronto.*\n * *Explore and cluster the neighborhoods in Toronto (replicate the same analysis we did to New York City data).*\n \n -------\n **1. Import Library**\n"
        },
        {
            "cell_type": "code",
            "execution_count": null,
            "metadata": {},
            "outputs": [],
            "source": "import numpy as np #to handle file in vectorize manner\nimport pandas as pd #for data analysis\npd.set_option('display.max_columns',none)\npd.se"
        }
    ],
    "metadata": {
        "kernelspec": {
            "display_name": "Python 3.6",
            "language": "python",
            "name": "python3"
        },
        "language_info": {
            "codemirror_mode": {
                "name": "ipython",
                "version": 3
            },
            "file_extension": ".py",
            "mimetype": "text/x-python",
            "name": "python",
            "nbconvert_exporter": "python",
            "pygments_lexer": "ipython3",
            "version": "3.6.9"
        }
    },
    "nbformat": 4,
    "nbformat_minor": 1
}